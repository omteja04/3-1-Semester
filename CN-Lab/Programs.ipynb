{
 "cells": [
  {
   "cell_type": "code",
   "execution_count": null,
   "metadata": {},
   "outputs": [],
   "source": []
  },
  {
   "cell_type": "code",
   "execution_count": null,
   "metadata": {},
   "outputs": [],
   "source": []
  },
  {
   "cell_type": "code",
   "execution_count": null,
   "metadata": {},
   "outputs": [],
   "source": []
  },
  {
   "cell_type": "markdown",
   "metadata": {},
   "source": [
    "**4 - Write a program for Hamming Code generation for error detection and correction.** "
   ]
  },
  {
   "cell_type": "code",
   "execution_count": 1,
   "metadata": {},
   "outputs": [
    {
     "name": "stdout",
     "output_type": "stream",
     "text": [
      "Received data is having error at pos :  2\n"
     ]
    }
   ],
   "source": [
    "li = list(map(int,input(\"Enter 7 bits of data 0s and 1s separated by spaces : \").split()))\n",
    "rec = list(map(int,input(\"Enter the received 11 data bits of 0s and 1s separated by spaces : \").split()))\n",
    "li = li[::-1]\n",
    "li = [0,0] + li[0:1] + [0] + li[1:4] + [0] + li[4:]\n",
    "\n",
    "li[0] = (li[2] + li[4] + li[6] + li[8] + li[10]) % 2\n",
    "li[1] = (li[2] + li[5] + li[6] + li[9] + li[10]) % 2\n",
    "li[3] = (li[4] + li[5] + li[6]) % 2\n",
    "li[7] = (li[8] + li[9] + li[10]) % 2\n",
    "li = li[::-1]\n",
    "rec = rec[::-1]\n",
    "r1 = (rec[0] + rec[2] + rec[4] + rec[6] + rec[8] + rec[10]) % 2\n",
    "r2 = (rec[1] + rec[2] + rec[5] + rec[6] + rec[9] + rec[10]) % 2\n",
    "r3 = (rec[3] + rec[4] + rec[5] + rec[6]) % 2\n",
    "r4 = (rec[7] + rec[8] + rec[9] + rec[10]) % 2\n",
    "bit = str(r4) + str(r3) + str(r2) + str(r1)\n",
    "bit = int(bit, 2)\n",
    "if bit:\n",
    "    print(\"Received data is having error at pos : \",bit)\n",
    "else:\n",
    "    print(\"Received data have no error\")\n",
    "\n",
    "\n",
    "# 1 0 1 0 1 0 1\n",
    "# 1 0 1 0 0 1 0 1 1 0 1 "
   ]
  }
 ],
 "metadata": {
  "kernelspec": {
   "display_name": "Python 3",
   "language": "python",
   "name": "python3"
  },
  "language_info": {
   "codemirror_mode": {
    "name": "ipython",
    "version": 3
   },
   "file_extension": ".py",
   "mimetype": "text/x-python",
   "name": "python",
   "nbconvert_exporter": "python",
   "pygments_lexer": "ipython3",
   "version": "3.11.2"
  }
 },
 "nbformat": 4,
 "nbformat_minor": 2
}
