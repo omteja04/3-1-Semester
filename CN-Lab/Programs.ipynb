{
 "cells": [
  {
   "cell_type": "markdown",
   "metadata": {},
   "source": [
    "**2. i) Write a Program to implement the data link layer farming methods such as --> character stuffing.**"
   ]
  },
  {
   "cell_type": "code",
   "execution_count": null,
   "metadata": {},
   "outputs": [],
   "source": [
    "head = input (\"Enter character that represents the starting delimiter: \") \n",
    "tail = input (\" Enter character that represents the ending delimiter: \") \n",
    "st = input(\"Enter the characters to be stuffed: \") \n",
    "res=head \n",
    "for i in st: \n",
    "    if i==head or i==tail: \n",
    "        res = res + i + i \n",
    "    else: \n",
    "        res = res + i \n",
    "    res = res+tail \n",
    "print(\"Frame after character stuffing: \", res) \n",
    "# Enter character that represents the starting delimiter: d \n",
    "# Enter character that represents the ending delimiter: g \n",
    "# Enter the characters to be stuffed: goodday \n",
    "# Frame after character stuffing: dggooddddayg"
   ]
  },
  {
   "cell_type": "markdown",
   "metadata": {},
   "source": [
    "**2. ii) Write a Program to implement the data link layer farming methods such as --> bit stuffing.**"
   ]
  },
  {
   "cell_type": "code",
   "execution_count": null,
   "metadata": {},
   "outputs": [],
   "source": [
    "# st = input (\"Enter the frame: \")  \n",
    "count = 0 \n",
    "res = \"\" \n",
    "for i in st: \n",
    "    if i == '1' and count < 5: \n",
    "        res += '1' \n",
    "        count += 1 \n",
    "    elif i == ' ': \n",
    "        pass \n",
    "    else: \n",
    "        res += i \n",
    "        count = 0 \n",
    "    if count == 5: \n",
    "        res += '0' \n",
    "        c = 0 \n",
    "print (\"Frame after bit stuffing: \", res)\n",
    "\n",
    "# Enter the frame: 01111110 \n",
    "# Frame after bit stuffing: 011111010"
   ]
  },
  {
   "cell_type": "markdown",
   "metadata": {},
   "source": [
    "**3. Write a Program to implement data link layer farming method checksum.**"
   ]
  },
  {
   "cell_type": "code",
   "execution_count": null,
   "metadata": {},
   "outputs": [],
   "source": [
    "s1 = input(\"Enter the string of 0's and 1's as subunit1: \") \n",
    "s2 = input(\"Enter the string of 0's and 1's as subunit2: \") \n",
    "s1 = s1[::-1] \n",
    "s2 = s2[::-1] \n",
    "\n",
    "res = \"\" \n",
    "c = '0' \n",
    "\n",
    "for i,j in zip(s1, s2): \n",
    "    if i == '0' and j == '0' and c == '0': \n",
    "        res += '0' \n",
    "        c = '0' \n",
    "    elif i == '0' and j == '0' and c == '1': \n",
    "        res += '1' \n",
    "        c = '0' \n",
    "    elif i == '0' and j == '1' and c == '0': \n",
    "        res += '1' \n",
    "        c = '0' \n",
    "    elif i == '0' and j == '1' and c == '1': \n",
    "        res += '0' \n",
    "        c = '1' \n",
    "    elif i == '1' and j == '0' and c == '0': \n",
    "        res += '1' \n",
    "        c = '0' \n",
    "    elif i == '1' and j == '0' and c == '1': \n",
    "        res += '0' \n",
    "        c = '1' \n",
    "    elif i == '1' and j == '1' and c == '0': \n",
    "        res += '0' \n",
    "        c = '1' \n",
    "    elif i == '1' and j == '1' and c == '1': \n",
    "        res += '1' \n",
    "        c = '1' \n",
    "\n",
    "if c == '1': \n",
    "    ans = \"\" \n",
    "    for i in res: \n",
    "        if i == '1' and c == '1': \n",
    "            ans += '0' \n",
    "            c = '1' \n",
    "        elif i == '0' and c == '0': \n",
    "            ans += '0' \n",
    "            c = '0' \n",
    "        else : \n",
    "            ans += '1' \n",
    "            c = '0' \n",
    "    res = ans \n",
    "final = \"\" \n",
    "for i in res: \n",
    "    if i == '1': \n",
    "        final += '0' \n",
    "    else: \n",
    "        final += '1' \n",
    "print(\"Checksum of two subunits: \", final[::-1].strip()) \n",
    "\n",
    "# Enter the string of 0's and 1's as subunit1: 10101001 \n",
    "# Enter the string of 0's and 1's as subunit2: 00111001 \n",
    "# Checksum of two subunits:  00011101"
   ]
  },
  {
   "cell_type": "markdown",
   "metadata": {},
   "source": [
    "**4 - Write a program for Hamming Code generation for error detection and correction.** "
   ]
  },
  {
   "cell_type": "code",
   "execution_count": null,
   "metadata": {},
   "outputs": [],
   "source": [
    "li = list(map(int,input(\"Enter 7 bits of data 0s and 1s separated by spaces : \").split()))\n",
    "rec = list(map(int,input(\"Enter the received 11 data bits of 0s and 1s separated by spaces : \").split()))\n",
    "li = li[::-1]\n",
    "li = [0,0] + li[0:1] + [0] + li[1:4] + [0] + li[4:]\n",
    "\n",
    "li[0] = (li[2] + li[4] + li[6] + li[8] + li[10]) % 2\n",
    "li[1] = (li[2] + li[5] + li[6] + li[9] + li[10]) % 2\n",
    "li[3] = (li[4] + li[5] + li[6]) % 2\n",
    "li[7] = (li[8] + li[9] + li[10]) % 2\n",
    "li = li[::-1]\n",
    "rec = rec[::-1]\n",
    "r1 = (rec[0] + rec[2] + rec[4] + rec[6] + rec[8] + rec[10]) % 2\n",
    "r2 = (rec[1] + rec[2] + rec[5] + rec[6] + rec[9] + rec[10]) % 2\n",
    "r3 = (rec[3] + rec[4] + rec[5] + rec[6]) % 2\n",
    "r4 = (rec[7] + rec[8] + rec[9] + rec[10]) % 2\n",
    "bit = str(r4) + str(r3) + str(r2) + str(r1)\n",
    "bit = int(bit, 2)\n",
    "if bit:\n",
    "    print(\"Received data is having error at pos : \",bit)\n",
    "else:\n",
    "    print(\"Received data have no error\")\n",
    "\n",
    "\n",
    "# 1 0 1 0 1 0 1\n",
    "# 1 0 1 0 0 1 0 1 1 0 1 \n",
    "# Received data is having error at pos :  2"
   ]
  },
  {
   "cell_type": "markdown",
   "metadata": {},
   "source": [
    "**5. Write a Program to implement on a data set of characters the three CRC polynomials CRC 12, CRC 16 and CRC-CCITT**"
   ]
  },
  {
   "cell_type": "code",
   "execution_count": null,
   "metadata": {},
   "outputs": [],
   "source": [
    "def xor(x, y): \n",
    "    ans = \"\" \n",
    "    for i in range(1, len(y)): \n",
    "        if x[i] == y[i]: \n",
    "            ans += '0' \n",
    "        else: \n",
    "            ans += '1' \n",
    "    return ans \n",
    "\n",
    "def divide(dividend, divisor): \n",
    "    a = len(divisor) \n",
    "    temp = dividend[0:a] \n",
    "    while a < len(dividend): \n",
    "        if temp[0] == '1': \n",
    "            temp = xor(divisor, temp) + dividend[a] \n",
    "        else: \n",
    "            temp = xor('0' * a, temp) + dividend[a] \n",
    "        a += 1 \n",
    "    if temp[0] == '1': \n",
    "        temp = xor(divisor, temp) \n",
    "    else: \n",
    "        temp = xor('0' * a, temp) \n",
    "    return temp \n",
    "keys = ['1100000001111', '11000000000000101', '10001000000100001']\n",
    "print(\"Choose the CRC\") \n",
    "print(\"1. CRC - 12\") \n",
    "print(\"2. CRC - 16\") \n",
    "print(\"3. CRC - CCITT \") \n",
    "n = int(input()) \n",
    "send = input(\"Enter the string of code word of binary data bits of 0's and 1's to be sent from the sender: \") \n",
    "rec = input(\" Enter the string of code word of binary data received at the receiver side: \") \n",
    "key = keys[n - 1] \n",
    "# encoding sender side \n",
    "length = len(key) \n",
    "send1 = send + '0' * (length - 1) \n",
    "rem = divide(send1, key) \n",
    "# decoding receiver side \n",
    "ans = divide(rec, key) \n",
    "if (ans == '0' * (len(key) - 1)): \n",
    "    print(\"no error\") \n",
    "else: \n",
    "    print(\"frame error\") \n",
    "\n",
    "\n",
    "# Choose the CRC \n",
    "# 1. CRC - 12 \n",
    "# 2. CRC - 16 \n",
    "# 3. CRC - CCITT  \n",
    "# 2 \n",
    "# Enter the string of code word of binary data bits of 0's and 1's to be sent from the \n",
    "# sender: 101110111010101 \n",
    "# Enter the string of code word of binary data received at the receiver side: \n",
    "# 1011101110101010100110011111011 \n",
    "# no error "
   ]
  },
  {
   "cell_type": "markdown",
   "metadata": {},
   "source": [
    "**6. Write a Program to implement Sliding window protocol for Go back N.**"
   ]
  },
  {
   "cell_type": "markdown",
   "metadata": {},
   "source": [
    "**SENDER SIDE**"
   ]
  },
  {
   "cell_type": "code",
   "execution_count": null,
   "metadata": {},
   "outputs": [],
   "source": [
    "import socket \n",
    "import random \n",
    "import time \n",
    "s = socket.socket() \n",
    "s.bind((\"localhost\", 1450)) \n",
    "s.listen(5) \n",
    "c, adr = s.accept() \n",
    "print(str(adr)) \n",
    "n = int(input(\"Enter number of frames: \")) \n",
    "N = int(input(\"Enter window size: \")) \n",
    "seq = 1  # is used to keep track of the window starting \n",
    "frame = 1  # frame to send starts with 1 \n",
    "# send first N window size frames \n",
    "for i in range(N): \n",
    "    print('Frames sent ->', frame) \n",
    "    c.send(str(frame).encode()) \n",
    "    frame += 1 \n",
    "    time.sleep(2) \n",
    "    timer = 5 \n",
    "# will start with acknowledgement frame of 1 \n",
    "while frame <= n: \n",
    "    t = random.randint(1, 7) \n",
    "    msg = c.recv(1).decode() \n",
    "    msg = int(msg) \n",
    "    if (msg != seq): \n",
    "    # here we try to discard the already sent frames after failed frame \n",
    "        continue \n",
    "    if (timer > t): \n",
    "# if the timer is greater than random number be consider it as ack \n",
    "        print(\"acknowledgement received\") \n",
    "        print('Frames sent ->', str(frame)) \n",
    "        # we will send next frame \n",
    "        c.send(str(frame).encode()) \n",
    "        seq += 1 \n",
    "        frame += 1 \n",
    "        time.sleep(2) \n",
    "    else: \n",
    "    # if timer is less than the random number we consider as not received ack \n",
    "        print('acknowledgement not received') \n",
    "        frame = seq \n",
    "# we will again send the frames from window starting i.e. seq \n",
    "    for i in range(N): \n",
    "        print('Frames sent ->', frame) \n",
    "        c.send(str(frame).encode()) \n",
    "        frame += 1 \n",
    "        time.sleep(2) \n"
   ]
  },
  {
   "cell_type": "markdown",
   "metadata": {},
   "source": [
    "**RECIEVER SIDE**"
   ]
  },
  {
   "cell_type": "code",
   "execution_count": null,
   "metadata": {},
   "outputs": [],
   "source": [
    "import socket \n",
    "import time \n",
    "s=socket.socket() \n",
    "s.connect((\"localhost\", 1450)) \n",
    "while 1: \n",
    "    msg=s.recv(2).decode() \n",
    "    print(\"Received --> \",int(msg)) \n",
    "    s.send(str(msg).encode()) \n",
    "    time.sleep(1) "
   ]
  },
  {
   "cell_type": "markdown",
   "metadata": {},
   "source": [
    "**7. Write a Program to implement Sliding window protocol for Selective repeat.**"
   ]
  },
  {
   "cell_type": "markdown",
   "metadata": {},
   "source": [
    "**SENDER SIDE**"
   ]
  },
  {
   "cell_type": "code",
   "execution_count": null,
   "metadata": {},
   "outputs": [],
   "source": [
    "import socket \n",
    "import random \n",
    "import time \n",
    "s = socket.socket() \n",
    "s.bind((\"localhost\",8038)) \n",
    "s.listen(5) \n",
    "c, adr = s.accept() \n",
    "print(\"from address\", str(adr), \"connection has established\") \n",
    "n = int(input(\"Enter number of frames: \")) \n",
    "N = int(input(\"Enter window size: \")) \n",
    "seq = 1 # is used to keep track of the window starting \n",
    "frame = 1 # frame to send starts with 1 \n",
    "# send first N window size frames \n",
    "for i in range(N): \n",
    "    print('Frames sent ->',frame) \n",
    "    c.send(str(frame).encode()) \n",
    "    frame += 1 \n",
    "    time.sleep(2) \n",
    "    timer = 5 # will start with acknowledgement frame of 1 \n",
    "while frame <= n : \n",
    "    t = random.randint(1,7) \n",
    "    msg = c.recv(1).decode() \n",
    "    msg = int(msg) \n",
    "    print(\"Frame \", msg) \n",
    "    if(timer > t):  \n",
    "        # if the timer is greater than random number be consider it as ack \n",
    "        print(\"acknowledgement received\") \n",
    "        print('Frames sent ->',str(frame)) \n",
    "        # we will send next frame \n",
    "        c.send(str(frame).encode()) \n",
    "        seq += 1 \n",
    "        frame += 1 \n",
    "        time.sleep(2) \n",
    "    else:  \n",
    "        # if timer is less than the random number we consider as not received ack \n",
    "        print('acknowledgement not received')  \n",
    "        # we will again send the frames from window starting i.e seq \n",
    "        print('Frames sent ->',msg) \n",
    "        c.send(str(msg).encode()) \n",
    "        time.sleep(2) "
   ]
  },
  {
   "cell_type": "markdown",
   "metadata": {},
   "source": [
    "**RECEIVER SIDE**"
   ]
  },
  {
   "cell_type": "code",
   "execution_count": null,
   "metadata": {},
   "outputs": [],
   "source": [
    "import socket \n",
    "import time \n",
    "s=socket.socket() \n",
    "s.connect((\"localhost\", 8038)) \n",
    "while 1: \n",
    "    msg=s.recv(2).decode() \n",
    "    print(\"Received --> \",int(msg)) \n",
    "    s.send(str(msg).encode()) \n",
    "    time.sleep(1)"
   ]
  },
  {
   "cell_type": "markdown",
   "metadata": {},
   "source": [
    "**8. Write a Program to implement Stop and Wait Protocol.**"
   ]
  },
  {
   "cell_type": "markdown",
   "metadata": {},
   "source": [
    "**SENDER SIDE**"
   ]
  },
  {
   "cell_type": "code",
   "execution_count": null,
   "metadata": {},
   "outputs": [],
   "source": [
    "import socket \n",
    "import time \n",
    "import random \n",
    "s=socket.socket() \n",
    "s.bind((\"localhost\", 8020)) \n",
    "s.listen(5) \n",
    "c, adr = s.accept() \n",
    "print(\"connection to \" + str(adr) + \" established\") \n",
    "a=int(input(\"enter total number of frames\")) \n",
    "x = 0 \n",
    "print(\"sending -->\", x) \n",
    "c.send(str(x).encode()) \n",
    "while( a > 1 ): \n",
    "    timer = 5 \n",
    "    t=random.randint(1,7) \n",
    "    msg = c.recv(1).decode() \n",
    "    if( timer > t): \n",
    "        time.sleep(3) \n",
    "        print(\"ack-->\", msg) \n",
    "        x=int(msg) \n",
    "        print(\"sending -->\", str(x)) \n",
    "        c.send(str(x).encode()) \n",
    "    else: \n",
    "        time.sleep(3) \n",
    "        print(\"timeout\") \n",
    "        print(\"sending again-->\", x) \n",
    "        c.send(str(x).encode()) \n",
    "        a=a+1 \n",
    "    a = a-1"
   ]
  },
  {
   "cell_type": "markdown",
   "metadata": {},
   "source": [
    "**RECEIVER SIDE**"
   ]
  },
  {
   "cell_type": "code",
   "execution_count": null,
   "metadata": {},
   "outputs": [],
   "source": [
    "import socket \n",
    "s=socket.socket() \n",
    "s.connect((\"localhost\", 8020)) \n",
    "while(1): \n",
    "    msg=s.recv(1).decode() \n",
    "    print(\"Received --> \", msg) \n",
    "    x=int(msg) \n",
    "    if(x==0): \n",
    "        x=x+1 \n",
    "        s.send(str(x).encode()) \n",
    "    else: \n",
    "        x=x-1 \n",
    "        s.send(str(x).encode()) "
   ]
  }
 ],
 "metadata": {
  "kernelspec": {
   "display_name": "Python 3",
   "language": "python",
   "name": "python3"
  },
  "language_info": {
   "codemirror_mode": {
    "name": "ipython",
    "version": 3
   },
   "file_extension": ".py",
   "mimetype": "text/x-python",
   "name": "python",
   "nbconvert_exporter": "python",
   "pygments_lexer": "ipython3",
   "version": "3.13.0"
  }
 },
 "nbformat": 4,
 "nbformat_minor": 2
}
